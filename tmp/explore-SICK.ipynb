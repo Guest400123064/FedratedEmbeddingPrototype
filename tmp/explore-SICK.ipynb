{
 "metadata": {
  "language_info": {
   "codemirror_mode": {
    "name": "ipython",
    "version": 3
   },
   "file_extension": ".py",
   "mimetype": "text/x-python",
   "name": "python",
   "nbconvert_exporter": "python",
   "pygments_lexer": "ipython3",
   "version": "3.8.3-final"
  },
  "orig_nbformat": 2,
  "kernelspec": {
   "name": "python3",
   "display_name": "Python 3"
  }
 },
 "nbformat": 4,
 "nbformat_minor": 2,
 "cells": [
  {
   "cell_type": "code",
   "execution_count": 1,
   "metadata": {},
   "outputs": [],
   "source": [
    "import pandas as pd"
   ]
  },
  {
   "cell_type": "code",
   "execution_count": 3,
   "metadata": {},
   "outputs": [],
   "source": [
    "dt_raw = pd.read_csv(\"../data/corpus/raw/SICK.txt\", sep='\\t')"
   ]
  },
  {
   "cell_type": "code",
   "execution_count": 4,
   "metadata": {},
   "outputs": [
    {
     "output_type": "execute_result",
     "data": {
      "text/plain": [
       "   pair_ID                                         sentence_A  \\\n",
       "0        1  A group of kids is playing in a yard and an ol...   \n",
       "1        2  A group of children is playing in the house an...   \n",
       "2        3  The young boys are playing outdoors and the ma...   \n",
       "3        4  The young boys are playing outdoors and the ma...   \n",
       "4        5  The kids are playing outdoors near a man with ...   \n",
       "\n",
       "                                          sentence_B entailment_label  \\\n",
       "0  A group of boys in a yard is playing and a man...          NEUTRAL   \n",
       "1  A group of kids is playing in a yard and an ol...          NEUTRAL   \n",
       "2  The kids are playing outdoors near a man with ...       ENTAILMENT   \n",
       "3  There is no boy playing outdoors and there is ...    CONTRADICTION   \n",
       "4  A group of kids is playing in a yard and an ol...          NEUTRAL   \n",
       "\n",
       "   relatedness_score    entailment_AB    entailment_BA  \\\n",
       "0                4.5      A_neutral_B      B_neutral_A   \n",
       "1                3.2  A_contradicts_B      B_neutral_A   \n",
       "2                4.7      A_entails_B      B_entails_A   \n",
       "3                3.6  A_contradicts_B  B_contradicts_A   \n",
       "4                3.4      A_neutral_B      B_neutral_A   \n",
       "\n",
       "                                 sentence_A_original  \\\n",
       "0  A group of children playing in a yard, a man i...   \n",
       "1  A group of children playing in a yard, a man i...   \n",
       "2  The children are playing outdoors, while a man...   \n",
       "3  The children are playing outdoors, while a man...   \n",
       "4  A group of children playing in a yard, a man i...   \n",
       "\n",
       "                                 sentence_B_original sentence_A_dataset  \\\n",
       "0  A group of children playing in a yard, a man i...             FLICKR   \n",
       "1  A group of children playing in a yard, a man i...             FLICKR   \n",
       "2  The children are playing outdoors, while a man...             FLICKR   \n",
       "3  The children are playing outdoors, while a man...             FLICKR   \n",
       "4  The children are playing outdoors, while a man...             FLICKR   \n",
       "\n",
       "  sentence_B_dataset SemEval_set  \n",
       "0             FLICKR       TRAIN  \n",
       "1             FLICKR       TRAIN  \n",
       "2             FLICKR       TRAIN  \n",
       "3             FLICKR       TRIAL  \n",
       "4             FLICKR       TRAIN  "
      ],
      "text/html": "<div>\n<style scoped>\n    .dataframe tbody tr th:only-of-type {\n        vertical-align: middle;\n    }\n\n    .dataframe tbody tr th {\n        vertical-align: top;\n    }\n\n    .dataframe thead th {\n        text-align: right;\n    }\n</style>\n<table border=\"1\" class=\"dataframe\">\n  <thead>\n    <tr style=\"text-align: right;\">\n      <th></th>\n      <th>pair_ID</th>\n      <th>sentence_A</th>\n      <th>sentence_B</th>\n      <th>entailment_label</th>\n      <th>relatedness_score</th>\n      <th>entailment_AB</th>\n      <th>entailment_BA</th>\n      <th>sentence_A_original</th>\n      <th>sentence_B_original</th>\n      <th>sentence_A_dataset</th>\n      <th>sentence_B_dataset</th>\n      <th>SemEval_set</th>\n    </tr>\n  </thead>\n  <tbody>\n    <tr>\n      <th>0</th>\n      <td>1</td>\n      <td>A group of kids is playing in a yard and an ol...</td>\n      <td>A group of boys in a yard is playing and a man...</td>\n      <td>NEUTRAL</td>\n      <td>4.5</td>\n      <td>A_neutral_B</td>\n      <td>B_neutral_A</td>\n      <td>A group of children playing in a yard, a man i...</td>\n      <td>A group of children playing in a yard, a man i...</td>\n      <td>FLICKR</td>\n      <td>FLICKR</td>\n      <td>TRAIN</td>\n    </tr>\n    <tr>\n      <th>1</th>\n      <td>2</td>\n      <td>A group of children is playing in the house an...</td>\n      <td>A group of kids is playing in a yard and an ol...</td>\n      <td>NEUTRAL</td>\n      <td>3.2</td>\n      <td>A_contradicts_B</td>\n      <td>B_neutral_A</td>\n      <td>A group of children playing in a yard, a man i...</td>\n      <td>A group of children playing in a yard, a man i...</td>\n      <td>FLICKR</td>\n      <td>FLICKR</td>\n      <td>TRAIN</td>\n    </tr>\n    <tr>\n      <th>2</th>\n      <td>3</td>\n      <td>The young boys are playing outdoors and the ma...</td>\n      <td>The kids are playing outdoors near a man with ...</td>\n      <td>ENTAILMENT</td>\n      <td>4.7</td>\n      <td>A_entails_B</td>\n      <td>B_entails_A</td>\n      <td>The children are playing outdoors, while a man...</td>\n      <td>The children are playing outdoors, while a man...</td>\n      <td>FLICKR</td>\n      <td>FLICKR</td>\n      <td>TRAIN</td>\n    </tr>\n    <tr>\n      <th>3</th>\n      <td>4</td>\n      <td>The young boys are playing outdoors and the ma...</td>\n      <td>There is no boy playing outdoors and there is ...</td>\n      <td>CONTRADICTION</td>\n      <td>3.6</td>\n      <td>A_contradicts_B</td>\n      <td>B_contradicts_A</td>\n      <td>The children are playing outdoors, while a man...</td>\n      <td>The children are playing outdoors, while a man...</td>\n      <td>FLICKR</td>\n      <td>FLICKR</td>\n      <td>TRIAL</td>\n    </tr>\n    <tr>\n      <th>4</th>\n      <td>5</td>\n      <td>The kids are playing outdoors near a man with ...</td>\n      <td>A group of kids is playing in a yard and an ol...</td>\n      <td>NEUTRAL</td>\n      <td>3.4</td>\n      <td>A_neutral_B</td>\n      <td>B_neutral_A</td>\n      <td>A group of children playing in a yard, a man i...</td>\n      <td>The children are playing outdoors, while a man...</td>\n      <td>FLICKR</td>\n      <td>FLICKR</td>\n      <td>TRAIN</td>\n    </tr>\n  </tbody>\n</table>\n</div>"
     },
     "metadata": {},
     "execution_count": 4
    }
   ],
   "source": [
    "dt_raw.head()"
   ]
  }
 ]
}